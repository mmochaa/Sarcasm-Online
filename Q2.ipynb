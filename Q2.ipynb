{
 "cells": [
  {
   "cell_type": "markdown",
   "id": "c8d05073-9482-492c-b322-a7a16e5ba92e",
   "metadata": {},
   "source": [
    "<h1>A1 - Q2 kjgeiwit</h1>"
   ]
  },
  {
   "cell_type": "code",
   "execution_count": 12,
   "id": "534c71b0-c4b7-4145-ae36-6f10e79ed8f0",
   "metadata": {},
   "outputs": [
    {
     "name": "stdout",
     "output_type": "stream",
     "text": [
      "Number of Unique Last Names:  6948\n"
     ]
    }
   ],
   "source": [
    "# Compute the number of unique last names of people listed in the dataset. (Treat empty strings if there aren't any.)\n",
    "import csv\n",
    "filename = \"Assignment1_Q2_Data.csv\"\n",
    "\n",
    "uniqueSurNames = []\n",
    "allSurNames = []\n",
    "with open(filename, 'r') as csvfile:\n",
    "    csvreader = csv.reader(csvfile)\n",
    "    next(csvreader)\n",
    "\n",
    "    for line in csvreader:\n",
    "        if line[5] not in allSurNames:\n",
    "            allSurNames.append(line[5])\n",
    "    lowerCaseLast = [surname.lower() for surname in allSurNames]\n",
    "    \n",
    "    for name in lowerCaseLast:\n",
    "        if name not in uniqueSurNames:\n",
    "            uniqueSurNames.append(name)\n",
    "\n",
    "numOfSurnames = len(uniqueSurNames)\n",
    "print(\"Number of Unique Last Names: \", numOfSurnames)\n"
   ]
  },
  {
   "cell_type": "code",
   "execution_count": 22,
   "id": "136d5abc-1f1e-4f01-8b81-d5a5e4458727",
   "metadata": {},
   "outputs": [
    {
     "name": "stdout",
     "output_type": "stream",
     "text": [
      "Most Common Surname:  maguire\n"
     ]
    }
   ],
   "source": [
    "# Compute the most common last names of people listed in the dataset.\n",
    "import csv\n",
    "# Found Counter from https://www.geeksforgeeks.org/python/counters-in-python-set-1/\n",
    "from collections import Counter\n",
    "filename = \"Assignment1_Q2_Data.csv\"\n",
    "\n",
    "uniqueSurNames = []\n",
    "allSurNames = []\n",
    "with open(filename, 'r') as csvfile:\n",
    "    csvreader = csv.reader(csvfile)\n",
    "    next(csvreader)\n",
    "\n",
    "    for line in csvreader:\n",
    "        if line[5] not in allSurNames:\n",
    "            allSurNames.append(line[5])\n",
    "    lowerCaseList = [surname.lower() for surname in allSurNames]\n",
    "\n",
    "    # Counter usage example found in https://www.geeksforgeeks.org/python/counters-in-python-set-1/\n",
    "    ctr = Counter(lowerCaseList)\n",
    "    mostCommon = ctr.most_common(1)\n",
    "    print(\"Most Common Surname: \", mostCommon[0][0])"
   ]
  },
  {
   "cell_type": "code",
   "execution_count": 6,
   "id": "b110900f-cdb4-4070-a4ef-bf98c9f55ec0",
   "metadata": {},
   "outputs": [
    {
     "name": "stdout",
     "output_type": "stream",
     "text": [
      "Youngest Person: john , lyons :  1  years old\n"
     ]
    }
   ],
   "source": [
    "# Compute the youngest person in the dataset.\n",
    "import csv\n",
    "filename = \"Assignment1_Q2_Data.csv\"\n",
    "\n",
    "currIndex = 0\n",
    "youngestIndex = 0\n",
    "currAge = 0\n",
    "youngestAge = 200\n",
    "\n",
    "# The following code was revised from https://www.geeksforgeeks.org/python/working-csv-files-python/ , \"Working with csv files in Python\" #\n",
    "with open(filename, 'r') as csvfile:\n",
    "    csvreader = csv.reader(csvfile)  # Reader object\n",
    "    queries = []\n",
    "    data = []\n",
    "    \n",
    "    queries = next(csvreader)  # Extracts the first row as column headers.\n",
    "    for line in csvreader:     # Read row data\n",
    "        data.append(line)      # Add row data to row list\n",
    "# End of revised code #\n",
    "        if line[7] != '' and set(line[7]) <= set('0123456789'):\n",
    "            currAge = int(line[7])\n",
    "            if currAge < youngestAge:\n",
    "                youngestAge = currAge\n",
    "                youngestIndex = currIndex\n",
    "        currIndex += 1\n",
    "\n",
    "print(\"Youngest Person:\", data[youngestIndex][4], \",\", data[youngestIndex][5], \": \", youngestAge, \" years old\")"
   ]
  },
  {
   "cell_type": "code",
   "execution_count": 13,
   "id": "9d7829bc-f5cd-49ba-bafe-64650fd901f0",
   "metadata": {},
   "outputs": [
    {
     "name": "stdout",
     "output_type": "stream",
     "text": [
      "Number of entries with same seeker and subject surname:  26190\n"
     ]
    }
   ],
   "source": [
    "# Find the number of entries where the person seeking information has the same surname as the person being sought.\n",
    "import csv\n",
    "filename = \"Assignment1_Q2_Data.csv\"\n",
    "\n",
    "sameSearchNum = 0\n",
    "\n",
    "with open(filename, 'r') as csvfile:\n",
    "    csvreader = csv.reader(csvfile)  # Reader object\n",
    "    for line in csvreader:\n",
    "        if line[8] == line[5]:\n",
    "            sameSearchNum += 1\n",
    "\n",
    "print(\"Number of entries with same seeker and subject surname: \", sameSearchNum)"
   ]
  },
  {
   "cell_type": "code",
   "execution_count": 14,
   "id": "5124b4f7-5b55-4392-be9f-12fa245b55e3",
   "metadata": {},
   "outputs": [
    {
     "name": "stdout",
     "output_type": "stream",
     "text": [
      "Average Age:  25.21293302540416\n"
     ]
    }
   ],
   "source": [
    "# Compute the average age of a person.\n",
    "import csv\n",
    "filename = \"Assignment1_Q2_Data.csv\"\n",
    "\n",
    "ages = []\n",
    "numAges = 0\n",
    "summedAge = 0\n",
    "aveAge = 0\n",
    "\n",
    "with open(filename, 'r') as csvfile:\n",
    "    csvreader = csv.reader(csvfile)\n",
    "    next(csvreader)\n",
    "\n",
    "    for line in csvreader:\n",
    "        if line[7] != '' and set(line[7]) <= set('0123456789'):\n",
    "            ages.append(line[7])\n",
    "\n",
    "    ages = [ int(x) for x in ages ]\n",
    "    \n",
    "    for currAge in ages:\n",
    "        numAges += 1\n",
    "        summedAge += currAge\n",
    "\n",
    "avgAge = summedAge / numAges\n",
    "print(\"Average Age: \", avgAge)"
   ]
  }
 ],
 "metadata": {
  "kernelspec": {
   "display_name": "Python 3 (ipykernel)",
   "language": "python",
   "name": "python3"
  },
  "language_info": {
   "codemirror_mode": {
    "name": "ipython",
    "version": 3
   },
   "file_extension": ".py",
   "mimetype": "text/x-python",
   "name": "python",
   "nbconvert_exporter": "python",
   "pygments_lexer": "ipython3",
   "version": "3.13.1"
  }
 },
 "nbformat": 4,
 "nbformat_minor": 5
}
